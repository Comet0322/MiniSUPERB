{
 "cells": [
  {
   "cell_type": "code",
   "execution_count": 7,
   "metadata": {},
   "outputs": [],
   "source": [
    "import os\n",
    "import shutil\n",
    "from pathlib import Path\n",
    "from tqdm import tqdm\n",
    "from glob import glob\n",
    "import torchaudio\n",
    "import pandas as pd"
   ]
  },
  {
   "cell_type": "code",
   "execution_count": 22,
   "metadata": {},
   "outputs": [],
   "source": [
    "df = pd.read_csv(\"/home/suisei/Code/copy/s3prl/s3prl/downstream/separation_stft2/datasets/Libri2Mix/wav16k/min/test/mix_clean/wav.scp\", sep=\" \", header=None)\n"
   ]
  },
  {
   "cell_type": "code",
   "execution_count": 24,
   "metadata": {},
   "outputs": [],
   "source": [
    "count = 0\n",
    "for i, path in enumerate(df.iloc[:, 1]):\n",
    "    # count += torchaudio.info(i).num_frames/16000\n",
    "    # count += os.path.getsize(i)\n",
    "    shutil.copy(path, os.path.join(\"/media/suisei/DataDisk/DLHLP/data/tmp\", str(i)+\".wav\"))"
   ]
  },
  {
   "cell_type": "code",
   "execution_count": 18,
   "metadata": {},
   "outputs": [
    {
     "data": {
      "text/plain": [
       "0.13265874"
      ]
     },
     "execution_count": 18,
     "metadata": {},
     "output_type": "execute_result"
    }
   ],
   "source": [
    "count/1024/1024/1024"
   ]
  },
  {
   "cell_type": "code",
   "execution_count": 62,
   "metadata": {},
   "outputs": [],
   "source": [
    "df = pd.read_csv(\"/home/suisei/Code/copy/s3prl/s3prl/downstream/voxceleb1/veri_test_class.txt\", sep=\" \", header=None)"
   ]
  },
  {
   "cell_type": "code",
   "execution_count": 63,
   "metadata": {},
   "outputs": [
    {
     "name": "stderr",
     "output_type": "stream",
     "text": [
      "100%|██████████| 153516/153516 [00:08<00:00, 18913.91it/s]\n"
     ]
    }
   ],
   "source": [
    "count = 0\n",
    "length_list = []\n",
    "split_list = []\n",
    "path_list = []\n",
    "spk_list = []\n",
    "for i, row in tqdm(df.iterrows(), total=len(df)):\n",
    "    split, wav_path = row\n",
    "    path = os.path.join(\"/media/suisei/DataDisk/DLHLP/data/voxceleb1/*/wav\", wav_path.strip())\n",
    "    try:\n",
    "        length_list.append(torchaudio.info(glob(path)[0]).num_frames/16000)\n",
    "        split_list.append(split)\n",
    "        path_list.append(wav_path.strip())\n",
    "        spk_list.append(wav_path.split(\"/\")[0])\n",
    "    except:\n",
    "        pass"
   ]
  },
  {
   "cell_type": "code",
   "execution_count": 64,
   "metadata": {},
   "outputs": [],
   "source": [
    "new_df = pd.DataFrame({\"split\": split_list, \"path\": path_list, \"length\": length_list, \"spk\": spk_list})"
   ]
  },
  {
   "cell_type": "code",
   "execution_count": 65,
   "metadata": {},
   "outputs": [],
   "source": [
    "train_df = new_df[new_df[\"split\"] == 1]\n",
    "dev_df = new_df[new_df[\"split\"] == 2]\n",
    "test_df = new_df[new_df[\"split\"] == 3]"
   ]
  },
  {
   "cell_type": "code",
   "execution_count": 7,
   "metadata": {},
   "outputs": [
    {
     "data": {
      "text/plain": [
       "318.41221321180547"
      ]
     },
     "execution_count": 7,
     "metadata": {},
     "output_type": "execute_result"
    }
   ],
   "source": [
    "train_df.length.sum()/3600"
   ]
  },
  {
   "cell_type": "code",
   "execution_count": 8,
   "metadata": {},
   "outputs": [
    {
     "data": {
      "text/plain": [
       "(138361, 6904, 8251)"
      ]
     },
     "execution_count": 8,
     "metadata": {},
     "output_type": "execute_result"
    }
   ],
   "source": [
    "len(train_df), len(dev_df), len(test_df)"
   ]
  },
  {
   "cell_type": "code",
   "execution_count": 24,
   "metadata": {},
   "outputs": [
    {
     "data": {
      "text/plain": [
       "1251"
      ]
     },
     "execution_count": 24,
     "metadata": {},
     "output_type": "execute_result"
    }
   ],
   "source": [
    "len(dev_df.spk.unique())"
   ]
  },
  {
   "cell_type": "code",
   "execution_count": 66,
   "metadata": {},
   "outputs": [],
   "source": [
    "part_train_df = train_df.groupby('spk', group_keys=False).apply(lambda x: x.sample(11, random_state=42))\n",
    "# part_dev_df = dev_df[dev_df.spk!='id10842'].groupby('spk', group_keys=False).apply(lambda x: x.sample(2, random_state=42))"
   ]
  },
  {
   "cell_type": "code",
   "execution_count": 69,
   "metadata": {},
   "outputs": [
    {
     "data": {
      "text/plain": [
       "(13761, 4)"
      ]
     },
     "execution_count": 69,
     "metadata": {},
     "output_type": "execute_result"
    }
   ],
   "source": [
    "part_train_df.shape"
   ]
  },
  {
   "cell_type": "code",
   "execution_count": 68,
   "metadata": {},
   "outputs": [
    {
     "data": {
      "text/plain": [
       "1251"
      ]
     },
     "execution_count": 68,
     "metadata": {},
     "output_type": "execute_result"
    }
   ],
   "source": [
    "part_train_df.spk.unique().__len__()"
   ]
  },
  {
   "cell_type": "code",
   "execution_count": 16,
   "metadata": {},
   "outputs": [],
   "source": [
    "new_total_df = pd.concat([part_train_df, dev_df, test_df]).reset_index(drop=True)"
   ]
  },
  {
   "cell_type": "code",
   "execution_count": 17,
   "metadata": {},
   "outputs": [],
   "source": [
    "new_total_df[[\"split\", \"path\"]].to_csv(\"/home/suisei/Code/copy/s3prl/s3prl/downstream/voxceleb1/mini_veri_test_class.txt\", sep=\" \", header=None, index=False)"
   ]
  },
  {
   "cell_type": "code",
   "execution_count": 23,
   "metadata": {},
   "outputs": [
    {
     "data": {
      "text/plain": [
       "10.24116453125"
      ]
     },
     "execution_count": 23,
     "metadata": {},
     "output_type": "execute_result"
    }
   ],
   "source": [
    "count/3600/16000"
   ]
  },
  {
   "cell_type": "code",
   "execution_count": 2,
   "metadata": {},
   "outputs": [],
   "source": [
    "src_dir = \"/media/suisei/DataDisk/DLHLP/data/voxceleb1\"\n",
    "target_dir = \"/media/suisei/DataDisk/DLHLP/data/mini_vox\""
   ]
  },
  {
   "cell_type": "code",
   "execution_count": 3,
   "metadata": {},
   "outputs": [],
   "source": [
    "with open(\"/home/suisei/Code/copy/s3prl/s3prl/downstream/voxceleb1/veri_test_class.txt\", \"r\") as f:\n",
    "    wav_paths = f.readlines()"
   ]
  },
  {
   "cell_type": "code",
   "execution_count": 6,
   "metadata": {},
   "outputs": [
    {
     "name": "stderr",
     "output_type": "stream",
     "text": [
      "100%|██████████| 153516/153516 [00:05<00:00, 25952.23it/s]\n"
     ]
    }
   ],
   "source": [
    "for a in tqdm(wav_paths):\n",
    "    split, wav_path = a.split(\" \")\n",
    "    if split == \"3\":\n",
    "        wav_path = wav_path.strip()\n",
    "        src_path = glob(f\"{src_dir}/*/wav/{wav_path}\")[0]#os.path.join(src_dir, wav_path)\n",
    "        target_path = src_path.replace(\"voxceleb1\", \"mini_vox\") #os.path.join(target_dir, wav_path)\n",
    "        os.makedirs(os.path.dirname(target_path), exist_ok=True)\n",
    "        shutil.copy(src_path, target_path)\n",
    "    "
   ]
  },
  {
   "cell_type": "code",
   "execution_count": 99,
   "metadata": {},
   "outputs": [
    {
     "name": "stderr",
     "output_type": "stream",
     "text": [
      "100%|██████████| 1000/1000 [00:00<00:00, 5874.87it/s]\n",
      "100%|██████████| 1000/1000 [00:00<00:00, 6816.74it/s]\n",
      "100%|██████████| 300/300 [00:00<00:00, 3114.54it/s]\n",
      "100%|██████████| 300/300 [00:00<00:00, 2906.93it/s]\n",
      "100%|██████████| 824/824 [00:00<00:00, 11298.08it/s]\n",
      "100%|██████████| 824/824 [00:00<00:00, 2065.09it/s]\n"
     ]
    }
   ],
   "source": [
    "for split in [\"train_1000\", \"dev_300\", \"test\"]:\n",
    "    for cond in [\"clean\", \"noisy\"]:\n",
    "        with open(f\"/home/suisei/Code/copy/s3prl/s3prl/downstream/enhancement_stft2/datasets/voicebank/wav16k/{split}/{cond}/wav.scp\", \"r\") as f:\n",
    "            wav_paths = f.readlines()\n",
    "            for a in tqdm(wav_paths):\n",
    "                src_path = a.split(\" \")[1]\n",
    "                src_path = src_path.strip()\n",
    "                target_path = src_path.replace(\"noisy-vctk-16k\", \"mini-vctk\")\n",
    "                os.makedirs(os.path.dirname(target_path), exist_ok=True)\n",
    "                shutil.copy(src_path, target_path)"
   ]
  },
  {
   "cell_type": "code",
   "execution_count": 102,
   "metadata": {},
   "outputs": [
    {
     "name": "stderr",
     "output_type": "stream",
     "text": [
      "100%|██████████| 1400/1400 [00:00<00:00, 1723.99it/s]\n",
      "100%|██████████| 1400/1400 [00:01<00:00, 1340.90it/s]\n",
      "100%|██████████| 1400/1400 [00:00<00:00, 3973.92it/s]\n",
      "100%|██████████| 1400/1400 [00:00<00:00, 6696.22it/s]\n",
      "100%|██████████| 1000/1000 [00:00<00:00, 1920.43it/s]\n",
      "100%|██████████| 1000/1000 [00:00<00:00, 1959.68it/s]\n",
      "100%|██████████| 1000/1000 [00:00<00:00, 1963.74it/s]\n",
      "100%|██████████| 1000/1000 [00:00<00:00, 2044.08it/s]\n",
      "100%|██████████| 3000/3000 [00:01<00:00, 1964.35it/s]\n",
      "100%|██████████| 3000/3000 [00:01<00:00, 2003.50it/s]\n",
      "100%|██████████| 3000/3000 [00:01<00:00, 1902.51it/s]\n",
      "100%|██████████| 3000/3000 [00:01<00:00, 1878.41it/s]\n"
     ]
    }
   ],
   "source": [
    "for split in [\"train_1400\", \"dev_1000\", \"test\"]:\n",
    "    for cond in [\"mix_clean\", \"noise\", \"s1\", \"s2\"]:\n",
    "        with open(f\"/home/suisei/Code/copy/s3prl/s3prl/downstream/separation_stft2/datasets/Libri2Mix/wav16k/min/{split}/{cond}/wav.scp\", \"r\") as f:\n",
    "            wav_paths = f.readlines()\n",
    "            for a in tqdm(wav_paths):\n",
    "                src_path = a.split(\" \")[1]\n",
    "                src_path = src_path.strip()\n",
    "                target_path = src_path.replace(\"Libri2Mix\", \"mini_libri2mix\")\n",
    "                os.makedirs(os.path.dirname(target_path), exist_ok=True)\n",
    "                shutil.copy(src_path, target_path)"
   ]
  }
 ],
 "metadata": {
  "kernelspec": {
   "display_name": "a",
   "language": "python",
   "name": "python3"
  },
  "language_info": {
   "codemirror_mode": {
    "name": "ipython",
    "version": 3
   },
   "file_extension": ".py",
   "mimetype": "text/x-python",
   "name": "python",
   "nbconvert_exporter": "python",
   "pygments_lexer": "ipython3",
   "version": "3.8.16"
  },
  "orig_nbformat": 4,
  "vscode": {
   "interpreter": {
    "hash": "200e02a1dd0f27b419505252928cfddc6deda75e565e93b81c9958a4881328ae"
   }
  }
 },
 "nbformat": 4,
 "nbformat_minor": 2
}
