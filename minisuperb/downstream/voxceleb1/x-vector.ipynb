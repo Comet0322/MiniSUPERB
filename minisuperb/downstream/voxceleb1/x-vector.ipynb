{
 "cells": [
  {
   "cell_type": "code",
   "execution_count": 1,
   "metadata": {},
   "outputs": [
    {
     "name": "stderr",
     "output_type": "stream",
     "text": [
      "/home/jerrymark/data/miniconda3/envs/fs-superb/lib/python3.10/site-packages/tqdm/auto.py:21: TqdmWarning: IProgress not found. Please update jupyter and ipywidgets. See https://ipywidgets.readthedocs.io/en/stable/user_install.html\n",
      "  from .autonotebook import tqdm as notebook_tqdm\n"
     ]
    }
   ],
   "source": [
    "import os\n",
    "from glob import glob\n",
    "from tqdm import tqdm\n",
    "import pandas as pd\n",
    "import torch\n",
    "import torchaudio\n",
    "from multiprocessing import Pool\n",
    "\n",
    "from speechbrain.pretrained import EncoderClassifier"
   ]
  },
  {
   "cell_type": "code",
   "execution_count": 2,
   "metadata": {},
   "outputs": [],
   "source": [
    "metadata = \"/home/jerrymark/data/Few-Shot-SUPERB/s3prl/downstream/voxceleb1/veri_test_class\"\n",
    "root = \"/home/jerrymark/data/Few-Shot-SUPERB/data/voxceleb1\"\n",
    "output_path = \"/home/jerrymark/data/Few-Shot-SUPERB/data/extracted_feats/voxceleb1_x-vector\""
   ]
  },
  {
   "cell_type": "code",
   "execution_count": 3,
   "metadata": {},
   "outputs": [],
   "source": [
    "df = pd.read_csv(metadata, sep=\" \", header=None)"
   ]
  },
  {
   "cell_type": "code",
   "execution_count": 4,
   "metadata": {},
   "outputs": [],
   "source": [
    "train = df[df[0] ==1]\n",
    "others = df[df[0] != 1]"
   ]
  },
  {
   "cell_type": "code",
   "execution_count": 5,
   "metadata": {},
   "outputs": [
    {
     "data": {
      "text/plain": [
       "(13761, 2)"
      ]
     },
     "execution_count": 5,
     "metadata": {},
     "output_type": "execute_result"
    }
   ],
   "source": [
    "train.shape"
   ]
  },
  {
   "cell_type": "code",
   "execution_count": 5,
   "metadata": {},
   "outputs": [],
   "source": [
    "# classifier = EncoderClassifier.from_hparams(source=\"speechbrain/spkrec-xvect-voxceleb\", savedir=\"pretrained_models/spkrec-xvect-voxceleb\",run_opts={\"device\":\"cuda\"})\n"
   ]
  },
  {
   "cell_type": "code",
   "execution_count": 6,
   "metadata": {},
   "outputs": [],
   "source": [
    "# for i, row in tqdm(train.iterrows(), total=len(train)):\n",
    "#     path = glob(f\"{root}/*/wav/{row[1]}\")[0]\n",
    "#     waveform, sample_rate = torchaudio.load(path)\n",
    "#     feats = classifier.encode_batch(waveform)\n",
    "#     os.makedirs(os.path.dirname(f\"{output_path}/{row[1].replace('.wav', '.pt')}\"), exist_ok=True)\n",
    "#     torch.save(feats, f\"{output_path}/{row[1].replace('.wav', '.pt')}\")"
   ]
  },
  {
   "cell_type": "code",
   "execution_count": 5,
   "metadata": {},
   "outputs": [],
   "source": [
    "import matplotlib.pyplot as plt\n",
    "import numpy as np\n",
    "from sklearn.manifold import TSNE\n",
    "from sklearn.decomposition import PCA"
   ]
  },
  {
   "cell_type": "code",
   "execution_count": 6,
   "metadata": {},
   "outputs": [
    {
     "name": "stderr",
     "output_type": "stream",
     "text": [
      "0it [00:00, ?it/s]\n"
     ]
    }
   ],
   "source": [
    "sample_list = []\n",
    "spk_list = glob(f\"{output_path}/*\")\n",
    "for spk in tqdm(spk_list):\n",
    "    samples = sorted(glob(f\"{spk}/*/*.pt\"))\n",
    "    X = []\n",
    "    for sample in samples:\n",
    "        features = torch.load(sample)[0][0].cpu().numpy()\n",
    "        X.append(features)\n",
    "\n",
    "    X = np.array(X)\n",
    "    X = X / np.linalg.norm(X)\n",
    "\n",
    "    center = np.mean(X, axis=0)\n",
    "    distances = np.linalg.norm(X - center, axis=1)\n",
    "    \n",
    "    label = pd.qcut(distances, 11, labels=False)\n",
    "    # c = pd.DataFrame({\"path\": samples, \"label\": label})\n",
    "    # out = c[c.label == 0].sample(1, random_state=8830)\n",
    "    out = pd.DataFrame({\"path\": samples, \"label\": label}).groupby(by=\"label\", group_keys=False).apply(lambda x: x.sample(1, random_state=8830))\n",
    "    spk_samples = out.path.to_list()\n",
    "    spk_samples = out.path.apply(lambda x: \"/\".join(x.split(\"/\")[-3:]).replace(\".pt\", \".wav\")).to_list()\n",
    "    sample_list.extend(spk_samples)\n",
    "    "
   ]
  },
  {
   "cell_type": "code",
   "execution_count": 25,
   "metadata": {},
   "outputs": [],
   "source": [
    "metadata_path = \"/home/jerrymark/data/Few-Shot-SUPERB/s3prl/downstream/voxceleb1/veri_test_class_1%-special.txt\""
   ]
  },
  {
   "cell_type": "code",
   "execution_count": 26,
   "metadata": {},
   "outputs": [],
   "source": [
    "with open(metadata_path, \"w\") as f:\n",
    "    for sample in sample_list:\n",
    "        f.write(f\"1 {sample}\\n\")\n",
    "    for i, row in others.iterrows():\n",
    "        f.write(f\"{row[0]} {row[1]}\\n\")"
   ]
  },
  {
   "cell_type": "code",
   "execution_count": 27,
   "metadata": {},
   "outputs": [],
   "source": [
    "# X_embedded = TSNE(n_components=2, learning_rate='auto',\n",
    "#                 init='random', perplexity=3).fit_transform(X)\n",
    "\n",
    "# X_embedded = PCA(n_components=2).fit_transform(X)\n",
    "# plt.scatter(X_embedded[:, 0], X_embedded[:, 1])"
   ]
  }
 ],
 "metadata": {
  "kernelspec": {
   "display_name": "pytorch-2.1.0",
   "language": "python",
   "name": "python3"
  },
  "language_info": {
   "codemirror_mode": {
    "name": "ipython",
    "version": 3
   },
   "file_extension": ".py",
   "mimetype": "text/x-python",
   "name": "python",
   "nbconvert_exporter": "python",
   "pygments_lexer": "ipython3",
   "version": "3.10.11"
  },
  "orig_nbformat": 4
 },
 "nbformat": 4,
 "nbformat_minor": 2
}
