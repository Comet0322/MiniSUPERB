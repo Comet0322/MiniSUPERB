{
 "cells": [
  {
   "cell_type": "code",
   "execution_count": 1,
   "metadata": {},
   "outputs": [],
   "source": [
    "import pandas as pd\n"
   ]
  },
  {
   "cell_type": "code",
   "execution_count": 2,
   "metadata": {},
   "outputs": [],
   "source": [
    "df = pd.read_csv(\"/home/jerrymark/data/Few-Shot-SUPERB/data/LibriMix/Libri2Mix/wav16k/min/metadata/metrics_train-100_mix_clean.csv\")"
   ]
  },
  {
   "cell_type": "code",
   "execution_count": 3,
   "metadata": {},
   "outputs": [
    {
     "data": {
      "text/plain": [
       "count    13900.000000\n",
       "mean         2.912253\n",
       "std          2.267019\n",
       "min          0.000074\n",
       "25%          1.173268\n",
       "50%          2.481481\n",
       "75%          4.204589\n",
       "max         31.572564\n",
       "Name: source_1_SNR, dtype: float64"
      ]
     },
     "execution_count": 3,
     "metadata": {},
     "output_type": "execute_result"
    }
   ],
   "source": [
    "df.source_1_SNR.abs().describe()"
   ]
  },
  {
   "cell_type": "code",
   "execution_count": 4,
   "metadata": {},
   "outputs": [
    {
     "data": {
      "text/plain": [
       "<Axes: ylabel='Frequency'>"
      ]
     },
     "execution_count": 4,
     "metadata": {},
     "output_type": "execute_result"
    },
    {
     "data": {
      "image/png": "[encoded data removed]",
      "text/plain": [
       "<Figure size 640x480 with 1 Axes>"
      ]
     },
     "metadata": {},
     "output_type": "display_data"
    }
   ],
   "source": [
    "df.source_1_SNR.abs().plot.hist(bins=100)"
   ]
  },
  {
   "cell_type": "code",
   "execution_count": 5,
   "metadata": {},
   "outputs": [],
   "source": [
    "df[\"SNR\"] = df.source_1_SNR.abs()"
   ]
  },
  {
   "cell_type": "code",
   "execution_count": 6,
   "metadata": {},
   "outputs": [],
   "source": [
    "labels = ['A', 'B', 'C', 'D', \"E\", ]\n",
    "categories = pd.cut(df[\"SNR\"], bins=[0, 5, 10, 15, 20, 25], labels=labels)"
   ]
  },
  {
   "cell_type": "code",
   "execution_count": 7,
   "metadata": {},
   "outputs": [],
   "source": [
    "df[\"categories\"] = categories\n"
   ]
  },
  {
   "cell_type": "code",
   "execution_count": 8,
   "metadata": {},
   "outputs": [],
   "source": [
    "result_df = df.groupby(\"categories\", group_keys=False).apply(lambda x: x.sample(x.shape[0]//100, random_state=8830))\n"
   ]
  },
  {
   "cell_type": "code",
   "execution_count": 9,
   "metadata": {},
   "outputs": [],
   "source": [
    "import os\n",
    "import shutil\n",
    "\n",
    "exp_code = \"train_1%-special\"\n"
   ]
  },
  {
   "cell_type": "code",
   "execution_count": 10,
   "metadata": {},
   "outputs": [],
   "source": [
    "os.makedirs(f\"datasets/Libri2Mix/wav16k/min/{exp_code}\", exist_ok=True)\n",
    "os.makedirs(f\"datasets/Libri2Mix/wav16k/min/{exp_code}/mix_clean\", exist_ok=True)\n",
    "os.makedirs(f\"datasets/Libri2Mix/wav16k/min/{exp_code}/s1\", exist_ok=True)\n",
    "os.makedirs(f\"datasets/Libri2Mix/wav16k/min/{exp_code}/s2\", exist_ok=True)"
   ]
  },
  {
   "cell_type": "code",
   "execution_count": 11,
   "metadata": {},
   "outputs": [
    {
     "data": {
      "text/html": [
       "<div>\n",
       "<style scoped>\n",
       "    .dataframe tbody tr th:only-of-type {\n",
       "        vertical-align: middle;\n",
       "    }\n",
       "\n",
       "    .dataframe tbody tr th {\n",
       "        vertical-align: top;\n",
       "    }\n",
       "\n",
       "    .dataframe thead th {\n",
       "        text-align: right;\n",
       "    }\n",
       "</style>\n",
       "<table border=\"1\" class=\"dataframe\">\n",
       "  <thead>\n",
       "    <tr style=\"text-align: right;\">\n",
       "      <th></th>\n",
       "      <th>mixture_ID</th>\n",
       "      <th>source_1_SNR</th>\n",
       "      <th>source_2_SNR</th>\n",
       "      <th>SNR</th>\n",
       "      <th>categories</th>\n",
       "    </tr>\n",
       "  </thead>\n",
       "  <tbody>\n",
       "    <tr>\n",
       "      <th>7702</th>\n",
       "      <td>1034-121119-0086_1447-130552-0004</td>\n",
       "      <td>-4.436521</td>\n",
       "      <td>4.436520</td>\n",
       "      <td>4.436521</td>\n",
       "      <td>A</td>\n",
       "    </tr>\n",
       "    <tr>\n",
       "      <th>11810</th>\n",
       "      <td>4859-22176-0020_831-130739-0014</td>\n",
       "      <td>-0.686395</td>\n",
       "      <td>0.686394</td>\n",
       "      <td>0.686395</td>\n",
       "      <td>A</td>\n",
       "    </tr>\n",
       "    <tr>\n",
       "      <th>8302</th>\n",
       "      <td>1040-133433-0014_7859-102519-0011</td>\n",
       "      <td>-2.262314</td>\n",
       "      <td>2.262313</td>\n",
       "      <td>2.262314</td>\n",
       "      <td>A</td>\n",
       "    </tr>\n",
       "    <tr>\n",
       "      <th>6709</th>\n",
       "      <td>198-126831-0017_1355-39947-0069</td>\n",
       "      <td>-0.178510</td>\n",
       "      <td>0.178510</td>\n",
       "      <td>0.178510</td>\n",
       "      <td>A</td>\n",
       "    </tr>\n",
       "    <tr>\n",
       "      <th>8572</th>\n",
       "      <td>298-126791-0006_2159-179154-0005</td>\n",
       "      <td>-1.171738</td>\n",
       "      <td>1.171738</td>\n",
       "      <td>1.171738</td>\n",
       "      <td>A</td>\n",
       "    </tr>\n",
       "  </tbody>\n",
       "</table>\n",
       "</div>"
      ],
      "text/plain": [
       "                              mixture_ID  source_1_SNR  source_2_SNR  \\\n",
       "7702   1034-121119-0086_1447-130552-0004     -4.436521      4.436520   \n",
       "11810    4859-22176-0020_831-130739-0014     -0.686395      0.686394   \n",
       "8302   1040-133433-0014_7859-102519-0011     -2.262314      2.262313   \n",
       "6709     198-126831-0017_1355-39947-0069     -0.178510      0.178510   \n",
       "8572    298-126791-0006_2159-179154-0005     -1.171738      1.171738   \n",
       "\n",
       "            SNR categories  \n",
       "7702   4.436521          A  \n",
       "11810  0.686395          A  \n",
       "8302   2.262314          A  \n",
       "6709   0.178510          A  \n",
       "8572   1.171738          A  "
      ]
     },
     "execution_count": 11,
     "metadata": {},
     "output_type": "execute_result"
    }
   ],
   "source": [
    "result_df.head()"
   ]
  },
  {
   "cell_type": "code",
   "execution_count": 12,
   "metadata": {},
   "outputs": [],
   "source": [
    "spk2utt = result_df.mixture_ID.to_list()"
   ]
  },
  {
   "cell_type": "code",
   "execution_count": 13,
   "metadata": {},
   "outputs": [
    {
     "data": {
      "text/plain": [
       "'datasets/Libri2Mix/wav16k/min/train_1%-special/s2/spk2utt'"
      ]
     },
     "execution_count": 13,
     "metadata": {},
     "output_type": "execute_result"
    }
   ],
   "source": [
    "with open(f\"datasets/Libri2Mix/wav16k/min/{exp_code}/mix_clean/spk2utt\", \"w\") as f:\n",
    "    for line in spk2utt:\n",
    "        f.write(line + \"\\n\")\n",
    "\n",
    "shutil.copy(f\"datasets/Libri2Mix/wav16k/min/{exp_code}/mix_clean/spk2utt\", f\"datasets/Libri2Mix/wav16k/min/{exp_code}/mix_clean/utt2spk\")\n",
    "shutil.copy(f\"datasets/Libri2Mix/wav16k/min/{exp_code}/mix_clean/spk2utt\", f\"datasets/Libri2Mix/wav16k/min/{exp_code}/s1/utt2spk\")\n",
    "shutil.copy(f\"datasets/Libri2Mix/wav16k/min/{exp_code}/mix_clean/spk2utt\", f\"datasets/Libri2Mix/wav16k/min/{exp_code}/s1/spk2utt\")\n",
    "shutil.copy(f\"datasets/Libri2Mix/wav16k/min/{exp_code}/mix_clean/spk2utt\", f\"datasets/Libri2Mix/wav16k/min/{exp_code}/s2/utt2spk\")\n",
    "shutil.copy(f\"datasets/Libri2Mix/wav16k/min/{exp_code}/mix_clean/spk2utt\", f\"datasets/Libri2Mix/wav16k/min/{exp_code}/s2/spk2utt\")"
   ]
  },
  {
   "cell_type": "code",
   "execution_count": 14,
   "metadata": {},
   "outputs": [],
   "source": [
    "with open(f\"datasets/Libri2Mix/wav16k/min/{exp_code}/mix_clean/wav.scp\", \"w\") as f:\n",
    "    for line in spk2utt:\n",
    "        f.write(f'{line} ../data/LibriMix/Libri2Mix//wav16k/min/train-100/mix_clean/{line}.wav\\n')\n",
    "\n",
    "with open(f\"datasets/Libri2Mix/wav16k/min/{exp_code}/s1/wav.scp\", \"w\") as f:\n",
    "    for line in spk2utt:\n",
    "        f.write(f'{line} ../data/LibriMix/Libri2Mix//wav16k/min/train-100/s1/{line}.wav\\n')\n",
    "\n",
    "with open(f\"datasets/Libri2Mix/wav16k/min/{exp_code}/s2/wav.scp\", \"w\") as f:\n",
    "    for line in spk2utt:\n",
    "        f.write(f'{line} ../data/LibriMix/Libri2Mix//wav16k/min/train-100/s2/{line}.wav\\n')\n"
   ]
  },
  {
   "cell_type": "code",
   "execution_count": null,
   "metadata": {},
   "outputs": [],
   "source": []
  }
 ],
 "metadata": {
  "kernelspec": {
   "display_name": "fs-superb",
   "language": "python",
   "name": "python3"
  },
  "language_info": {
   "codemirror_mode": {
    "name": "ipython",
    "version": 3
   },
   "file_extension": ".py",
   "mimetype": "text/x-python",
   "name": "python",
   "nbconvert_exporter": "python",
   "pygments_lexer": "ipython3",
   "version": "3.10.12"
  },
  "orig_nbformat": 4
 },
 "nbformat": 4,
 "nbformat_minor": 2
}
